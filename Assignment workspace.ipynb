{
 "cells": [
  {
   "cell_type": "code",
   "execution_count": 5,
   "id": "38dbdb81-657a-4642-bff9-242f46bd1f6b",
   "metadata": {},
   "outputs": [
    {
     "name": "stdout",
     "output_type": "stream",
     "text": [
      "hello, I am Satvik Tiwari, 12353, This is my assingment\n"
     ]
    }
   ],
   "source": [
    "print('hello, I am Satvik Tiwari, 12353, This is my assingment')"
   ]
  },
  {
   "cell_type": "code",
   "execution_count": 3,
   "id": "6e315225-93e6-4a5b-8909-8051b78c3a06",
   "metadata": {
    "scrolled": true
   },
   "outputs": [
    {
     "name": "stdout",
     "output_type": "stream",
     "text": [
      "Collecting numpy"
     ]
    },
    {
     "name": "stderr",
     "output_type": "stream",
     "text": [
      "\n",
      "[notice] A new release of pip is available: 24.2 -> 24.3.1\n",
      "[notice] To update, run: python.exe -m pip install --upgrade pip\n"
     ]
    },
    {
     "name": "stdout",
     "output_type": "stream",
     "text": [
      "\n",
      "  Downloading numpy-2.1.3-cp313-cp313-win_amd64.whl.metadata (60 kB)\n",
      "Downloading numpy-2.1.3-cp313-cp313-win_amd64.whl (12.6 MB)\n",
      "   ---------------------------------------- 0.0/12.6 MB ? eta -:--:--\n",
      "   -- ------------------------------------- 0.8/12.6 MB 4.0 MB/s eta 0:00:03\n",
      "   ---- ----------------------------------- 1.3/12.6 MB 3.6 MB/s eta 0:00:04\n",
      "   ------ --------------------------------- 2.1/12.6 MB 3.8 MB/s eta 0:00:03\n",
      "   --------- ------------------------------ 2.9/12.6 MB 3.8 MB/s eta 0:00:03\n",
      "   ----------- ---------------------------- 3.7/12.6 MB 3.8 MB/s eta 0:00:03\n",
      "   --------------- ------------------------ 4.7/12.6 MB 3.9 MB/s eta 0:00:03\n",
      "   ----------------- ---------------------- 5.5/12.6 MB 3.9 MB/s eta 0:00:02\n",
      "   -------------------- ------------------- 6.6/12.6 MB 4.0 MB/s eta 0:00:02\n",
      "   ----------------------- ---------------- 7.3/12.6 MB 4.0 MB/s eta 0:00:02\n",
      "   -------------------------- ------------- 8.4/12.6 MB 4.1 MB/s eta 0:00:02\n",
      "   ------------------------------ --------- 9.4/12.6 MB 4.2 MB/s eta 0:00:01\n",
      "   --------------------------------- ------ 10.5/12.6 MB 4.3 MB/s eta 0:00:01\n",
      "   ------------------------------------ --- 11.5/12.6 MB 4.3 MB/s eta 0:00:01\n",
      "   ---------------------------------------  12.3/12.6 MB 4.3 MB/s eta 0:00:01\n",
      "   ---------------------------------------  12.3/12.6 MB 4.3 MB/s eta 0:00:01\n",
      "   ---------------------------------------- 12.6/12.6 MB 3.9 MB/s eta 0:00:00\n",
      "Installing collected packages: numpy\n",
      "Successfully installed numpy-2.1.3\n"
     ]
    }
   ],
   "source": [
    "!pip install numpy"
   ]
  },
  {
   "cell_type": "code",
   "execution_count": 16,
   "id": "385e6267-f6ab-45c9-a190-15eccfcbc735",
   "metadata": {},
   "outputs": [
    {
     "name": "stdout",
     "output_type": "stream",
     "text": [
      "[{'Heights': 172, 'Weights': 63}, {'Heights': 168, 'Weights': 65}, {'Heights': 170, 'Weights': 69}, {'Heights': 169, 'Weights': 62}, {'Heights': 174, 'Weights': 61}]\n"
     ]
    }
   ],
   "source": [
    "#question 1 - 1. Given below is a dictionary having two keys ‘Heights’ and ‘Weights’ and having two lists of heights of\n",
    "#five Heights and five Weights respectively as values associated with these keys\n",
    "#Original dictionary of lists:\n",
    "\n",
    "#CODE\n",
    "\n",
    "data = {'Heights': [172, 168, 170, 169, 174], 'Weights': [63, 65, 69, 62, 61]}\n",
    "\n",
    "# Creating the list of dictionaries\n",
    "list_of_dicts = [{'Heights': data['Heights'][i], 'Weights': data['Weights'][i]} for i in range(len(data['Heights']))]\n",
    "\n",
    "print(list_of_dicts)\n"
   ]
  },
  {
   "cell_type": "code",
   "execution_count": null,
   "id": "11462f03-099d-4e43-97eb-061cafcdc140",
   "metadata": {},
   "outputs": [],
   "source": []
  },
  {
   "cell_type": "code",
   "execution_count": 4,
   "id": "42e5a3d1-a0fa-4a82-baf5-2f202f0dddee",
   "metadata": {},
   "outputs": [
    {
     "name": "stdin",
     "output_type": "stream",
     "text": [
      "Enter number of rows (m):  3\n",
      "Enter number of columns (n):  4\n"
     ]
    },
    {
     "name": "stdout",
     "output_type": "stream",
     "text": [
      "Shape: (3, 4)\n",
      "Type: <class 'numpy.ndarray'>\n",
      "Data type: int32\n"
     ]
    }
   ],
   "source": [
    "@question 2 - Write programs in Python using NumPy library to do the following:\n",
    "a. Compute the mean, standard deviation, and variance of a two dimensional random integer\n",
    "array along the second axis.\n",
    "b. Get the indices of the sorted elements of a given array B = [56, 48, 22, 41, 78, 91, 24, 46, 8, 33]\n",
    "c. Create a 2-dimensional array of size m x n integer elements, also print the shape, type and\n",
    "data type of the array and then reshape it into nx m array, n and m are user inputs given at\n",
    "the run time.\n",
    "d. Test whether the elements of a given array are zero, non-zero and NaN. Record the indices\n",
    "of these elements in three separate arrays.\n",
    "\n",
    "#CODE\n",
    "\n",
    "import numpy as np\n",
    "\n",
    "# a. Compute the mean, standard deviation, and variance of a two dimensional random integer array along the second axis.\n",
    "array_2d = np.random.randint(0, 100, (5, 10))\n",
    "mean = np.mean(array_2d, axis=1)\n",
    "std_dev = np.std(array_2d, axis=1)\n",
    "variance = np.var(array_2d, axis=1)\n",
    "\n",
    "# b. Get the indices of the sorted elements of a given array B\n",
    "B = [56, 48, 22, 41, 78, 91, 24, 46, 8, 33]\n",
    "sorted_indices = np.argsort(B)\n",
    "\n",
    "# c. Create a 2-dimensional array of size m x n integer elements, print the shape, type and data type, then reshape it into n x m array\n",
    "m = int(input(\"Enter number of rows (m): \"))\n",
    "n = int(input(\"Enter number of columns (n): \"))\n",
    "array_2d_custom = np.random.randint(0, 100, (m, n))\n",
    "print(\"Shape:\", array_2d_custom.shape)\n",
    "print(\"Type:\", type(array_2d_custom))\n",
    "print(\"Data type:\", array_2d_custom.dtype)\n",
    "reshaped_array = array_2d_custom.reshape(n, m)\n",
    "\n",
    "# d. Test whether the elements of a given array are zero, non-zero and NaN. Record the indices of these elements in three separate arrays.\n",
    "array_test = np.array([1, 0, np.nan, 3, 4, 0, np.nan])\n",
    "zero_indices = np.where(array_test == 0)[0]\n",
    "non_zero_indices = np.where(array_test != 0)[0]\n",
    "nan_indices = np.where(np.isnan(array_test))[0]"
   ]
  },
  {
   "cell_type": "code",
   "execution_count": null,
   "id": "0649dcfc-880d-40ec-ab4f-ed298c539441",
   "metadata": {},
   "outputs": [],
   "source": []
  },
  {
   "cell_type": "code",
   "execution_count": 8,
   "id": "71f1a3e9-ce17-4343-aa3f-52eb274939dd",
   "metadata": {},
   "outputs": [],
   "source": [
    "#question 3 - Create an array num of size 2 X 3 filled with all zeros then insert [[1,2,3], [4,5,6]] into array. Identify\n",
    "the shape of the array num.\n",
    "\n",
    "#CODE\n",
    "\n",
    "\n",
    "import numpy as np\n",
    "\n",
    "num = np.zeros((2, 3))\n",
    "num[:2, :3] = [[1, 2, 3], [4, 5, 6]]\n",
    "shape = num.shape"
   ]
  },
  {
   "cell_type": "code",
   "execution_count": null,
   "id": "9de4a762-0127-471a-a7ca-88cce99d12f2",
   "metadata": {},
   "outputs": [],
   "source": []
  },
  {
   "cell_type": "code",
   "execution_count": 9,
   "id": "95a6f578-9903-4c80-bc20-0e15ed80e364",
   "metadata": {},
   "outputs": [
    {
     "name": "stdout",
     "output_type": "stream",
     "text": [
      "13\n"
     ]
    }
   ],
   "source": [
    "#question 4 - Consider a list seq= [1, 2, 0, 4, 6, 5, 2, 1]. Write a code to find the sum of elements of the value till\n",
    "element 5\n",
    "\n",
    "#CODE\n",
    "\n",
    "seq = [1, 2, 0, 4, 6, 5, 2, 1]\n",
    "total_sum = 0\n",
    "\n",
    "for num in seq:\n",
    "    if num == 5:\n",
    "        break\n",
    "    total_sum += num\n",
    "\n",
    "print(total_sum)"
   ]
  },
  {
   "cell_type": "code",
   "execution_count": null,
   "id": "9d715247-a73d-4afb-ab40-9536dc1916e7",
   "metadata": {},
   "outputs": [],
   "source": []
  },
  {
   "cell_type": "code",
   "execution_count": 11,
   "id": "94dfb18e-9331-4007-acd5-67a4380c7346",
   "metadata": {},
   "outputs": [
    {
     "name": "stdout",
     "output_type": "stream",
     "text": [
      "5x5 Array of Zeros:\n",
      " [[0. 0. 0. 0. 0.]\n",
      " [0. 0. 0. 0. 0.]\n",
      " [0. 0. 0. 0. 0.]\n",
      " [0. 0. 0. 0. 0.]\n",
      " [0. 0. 0. 0. 0.]]\n",
      "5x5 Array of Fives:\n",
      " [[5 5 5 5 5]\n",
      " [5 5 5 5 5]\n",
      " [5 5 5 5 5]\n",
      " [5 5 5 5 5]\n",
      " [5 5 5 5 5]]\n",
      "5x5 Array with Diagonal Ones:\n",
      " [[1. 0. 0. 0. 0.]\n",
      " [0. 1. 0. 0. 0.]\n",
      " [0. 0. 1. 0. 0.]\n",
      " [0. 0. 0. 1. 0.]\n",
      " [0. 0. 0. 0. 1.]]\n",
      "Sum of elements till 5: 18\n"
     ]
    }
   ],
   "source": [
    "#question 5 - Write programs in Python using NumPy library to do the following:\n",
    "a. Create a 5x5 array of\n",
    "(i) All zeros (ii) all 5s (iii) all zeros but diagonal elements one\n",
    "b. Consider a list seq= [1, 2, 0, 4, 6, 5, 2, 1]. Write a code to find the sum of elements of\n",
    " the values till element 5.\n",
    "\n",
    "#CODE\n",
    "\n",
    "\n",
    "import numpy as np\n",
    "\n",
    "# a. Create a 5x5 array of all zeros\n",
    "array_zeros = np.zeros((5, 5))\n",
    "print(\"5x5 Array of Zeros:\\n\", array_zeros)\n",
    "\n",
    "# a. Create a 5x5 array of all 5s\n",
    "array_fives = np.full((5, 5), 5)\n",
    "print(\"5x5 Array of Fives:\\n\", array_fives)\n",
    "\n",
    "# a. Create a 5x5 array of all zeros but diagonal elements one\n",
    "array_diagonal_ones = np.eye(5)\n",
    "print(\"5x5 Array with Diagonal Ones:\\n\", array_diagonal_ones)\n",
    "\n",
    "# b. Find the sum of elements of the list till element 5\n",
    "seq = [1, 2, 0, 4, 6, 5, 2, 1]\n",
    "sum_till_five = sum(seq[:seq.index(5) + 1])\n",
    "print(\"Sum of elements till 5:\", sum_till_five)"
   ]
  },
  {
   "cell_type": "code",
   "execution_count": null,
   "id": "ac8108a4-6c01-4851-9009-1df81eb91513",
   "metadata": {},
   "outputs": [],
   "source": []
  },
  {
   "cell_type": "code",
   "execution_count": 12,
   "id": "010398d9-6f86-40bd-8e7b-efa076d55449",
   "metadata": {},
   "outputs": [
    {
     "name": "stdout",
     "output_type": "stream",
     "text": [
      "[8, 9, 3]\n",
      "[4, 7, 5, 10]\n",
      "[1, 8, 3, 7, 10]\n"
     ]
    }
   ],
   "source": [
    "#question 6 - Consider the given arr = [1,2,8,9,3,4,7,5,10,6]. What will be the resulting array if these operations\n",
    "are performed arr[2:5], arr[-5: -1] and arr[::2].\n",
    "\n",
    "#CODE\n",
    "\n",
    "arr = [1, 2, 8, 9, 3, 4, 7, 5, 10, 6]\n",
    "\n",
    "result_1 = arr[2:5]        # [8, 9, 3]\n",
    "result_2 = arr[-5:-1]      # [4, 7, 5, 10]\n",
    "result_3 = arr[::2]        # [1, 8, 3, 7, 10]\n",
    "\n",
    "print(result_1)\n",
    "print(result_2)\n",
    "print(result_3)"
   ]
  },
  {
   "cell_type": "code",
   "execution_count": null,
   "id": "57eb2b91-42da-41bb-b1b1-bf3b381dcaa1",
   "metadata": {},
   "outputs": [],
   "source": []
  }
 ],
 "metadata": {
  "kernelspec": {
   "display_name": "Python 3 (ipykernel)",
   "language": "python",
   "name": "python3"
  },
  "language_info": {
   "codemirror_mode": {
    "name": "ipython",
    "version": 3
   },
   "file_extension": ".py",
   "mimetype": "text/x-python",
   "name": "python",
   "nbconvert_exporter": "python",
   "pygments_lexer": "ipython3",
   "version": "3.13.0"
  }
 },
 "nbformat": 4,
 "nbformat_minor": 5
}
